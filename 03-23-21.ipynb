{
 "cells": [
  {
   "cell_type": "code",
   "execution_count": 3,
   "id": "adapted-warehouse",
   "metadata": {},
   "outputs": [],
   "source": [
    "import requests\n",
    "from bs4 import BeautifulSoup\n",
    "\n",
    "URL = 'https://hackaday.com/2021/03/22/how-laser-headlights-work/'\n",
    "page  = requests.get(URL)\n",
    "soup = BeautifulSoup(page.text, 'lxml')\n",
    "\n",
    "TEXT = soup.find('div', {'itemprop': 'articleBody'}).get_text()\n",
    "\n",
    "import pickle\n",
    "with open('laser-headlights-article.pkl', 'wb') as f:\n",
    "    pickle.dump(TEXT, f)"
   ]
  },
  {
   "cell_type": "markdown",
   "id": "naughty-toilet",
   "metadata": {},
   "source": [
    "### Choose either of the next two cells to run"
   ]
  },
  {
   "cell_type": "code",
   "execution_count": 4,
   "id": "prerequisite-relevance",
   "metadata": {},
   "outputs": [],
   "source": [
    "# Step 1 alternate: Load from pickle\n",
    "import pickle\n",
    "with open('laser-headlights-article.pkl', 'rb') as f:\n",
    "    TEXT = pickle.load(f)"
   ]
  },
  {
   "cell_type": "code",
   "execution_count": 5,
   "id": "eastern-protein",
   "metadata": {},
   "outputs": [],
   "source": [
    "# Step 2: split article into sentences\n",
    "\n",
    "import spacy\n",
    "nlp = spacy.load('en_core_web_sm')\n",
    "article = nlp(TEXT)\n",
    "sents = list(article.sents)"
   ]
  },
  {
   "cell_type": "markdown",
   "id": "loving-convention",
   "metadata": {},
   "source": [
    "# Step 3: Tokenize and remove whitespace adn stopwords and punctuation"
   ]
  },
  {
   "cell_type": "code",
   "execution_count": null,
   "id": "dress-surface",
   "metadata": {},
   "outputs": [],
   "source": [
    "tokens = []\n",
    "for token in article:\n",
    "    tokens.append(token.text)\n",
    "\n",
    "def we_care_about(t):\n",
    "    lexeme = nlp.vocab[t]\n",
    "    return not lexeme.is_space and not lexeme.is_punct and not lexeme.is_stop\n",
    "    \n",
    "    \n",
    "cool_tokens = [t for t in tokens if we_care_about(t)]\n",
    "print(cool_tokens)\n"
   ]
  },
  {
   "cell_type": "markdown",
   "id": "suitable-demand",
   "metadata": {},
   "source": [
    "## Step 4: Determine interesting wordss"
   ]
  },
  {
   "cell_type": "code",
   "execution_count": 19,
   "id": "satellite-footwear",
   "metadata": {},
   "outputs": [
    {
     "name": "stdout",
     "output_type": "stream",
     "text": [
      "['laser', 'headlights', 'technology', 'headlight', 'led', 'light', 'high', 'beam', 'automotive', 'leds', 'aftermarket', 'come', 'lasers', 'beams', 'lighting']\n"
     ]
    }
   ],
   "source": [
    "from collections import Counter\n",
    "\n",
    "freqs = Counter(map(lambda x: x.lower(), cool_tokens))\n",
    "N = 15\n",
    "interesting_words = [x for x,_ in freqs.most_common(N)]\n",
    "print(interesting_words)"
   ]
  },
  {
   "cell_type": "code",
   "execution_count": null,
   "id": "engaging-columbus",
   "metadata": {},
   "outputs": [],
   "source": []
  }
 ],
 "metadata": {
  "kernelspec": {
   "display_name": "Python 3",
   "language": "python",
   "name": "python3"
  },
  "language_info": {
   "codemirror_mode": {
    "name": "ipython",
    "version": 3
   },
   "file_extension": ".py",
   "mimetype": "text/x-python",
   "name": "python",
   "nbconvert_exporter": "python",
   "pygments_lexer": "ipython3",
   "version": "3.9.2"
  }
 },
 "nbformat": 4,
 "nbformat_minor": 5
}
